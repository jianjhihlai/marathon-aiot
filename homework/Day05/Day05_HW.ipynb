{
 "cells": [
  {
   "cell_type": "markdown",
   "metadata": {},
   "source": [
    "- 作業1 : 練習使用一個民生物聯網 API，例如空氣、地震等感測站所回傳的紀錄資料。\n",
    "  \n",
    "  參考資料網址： https://ci.taiwan.gov.tw/dsp/environmental.aspx"
   ]
  },
  {
   "cell_type": "code",
   "execution_count": 9,
   "metadata": {},
   "outputs": [
    {
     "name": "stdout",
     "output_type": "stream",
     "text": [
      "請輸入要查詢的地點：新北市\n",
      "您查詢的地點是：新北市\n",
      "結果：對敏感族群不健康\n"
     ]
    }
   ],
   "source": [
    "# 題目是使用一個API，所以假設我想知道目前某個位置的空氣品質，所以要取得最新一筆的感測項目\n",
    "\n",
    "import requests\n",
    "# API網址\n",
    "api_url = \"https://sta.ci.taiwan.gov.tw/STA_AirQuality_v2/v1.0/Datastreams?$expand=Thing,Observations($orderby=phenomenonTime desc;$top=1)&$filter=Thing/properties/authority eq '行政院環境保護署' and substringof('空氣品質測站',Thing/name)&$count=true\"\n",
    "# 查詢的位置\n",
    "location = input(\"請輸入要查詢的地點：\")\n",
    "print(\"您查詢的地點是：{0}\".format(location))\n",
    "\n",
    "def filterLocationAirStatus(data, loc):\n",
    "    for row in data:\n",
    "        if row[\"name\"] == \"Status\":\n",
    "            if loc in row[\"Thing\"][\"properties\"][\"city\"]:\n",
    "                return row[\"Observations\"][0][\"result\"]\n",
    "    return \"無此地點資料\"\n",
    "\n",
    "\n",
    "resp = requests.get(url=api_url)\n",
    "data = resp.json()\n",
    "print(\"結果：{0}\".format(filterLocationAirStatus(data[\"value\"], location)))"
   ]
  },
  {
   "cell_type": "markdown",
   "metadata": {},
   "source": [
    "- 作業2 : 練習操作 OGC SensorThings API，將環保局測站位置的資料抓取下來，並且觀察下載資料的內容。\n",
    "  \n",
    "  參考網址：https://sta.ci.taiwan.gov.tw/STA_AirQuality_EPAIoT/v1.0/Things\n",
    "  \n",
    "### Ans:\n",
    "資料為一json格式檔案\n",
    "![環保局測站位置資料](practice2_img.png)"
   ]
  },
  {
   "cell_type": "markdown",
   "metadata": {},
   "source": [
    "- 作業3 : 依據作業 2 所下載的各個環保局測站感測器的描述資料，進一步點選 Datastreams、Locations，以及 Datastreams 點選進入後，點選 Observations 的 URL，觀察所下載到的資料內容，其中 Observations 內部是否包含個別感測器紀錄的資料。\n",
    "\n",
    "### Ans:\n",
    "- Datastreams: 包含感測器中量測的各種數據描述，此練習中取得的資料包括溫度、相對溼度、細懸浮微粒 PM2.5\n",
    "![Datastreams](practice3_datastream.png)\n",
    "- Locations: 測站資料主要應該是包括測站的座標點資料\n",
    "![Locations](practice3_location.png)\n",
    "- Observations：各時間點量測的數據，包括時間置於phenomenonTime屬性、量測的數據置於result屬性\n",
    "![Observations](practice3_datastream_observations.png)\n"
   ]
  }
 ],
 "metadata": {
  "kernelspec": {
   "display_name": "Python 3",
   "language": "python",
   "name": "python3"
  },
  "language_info": {
   "codemirror_mode": {
    "name": "ipython",
    "version": 3
   },
   "file_extension": ".py",
   "mimetype": "text/x-python",
   "name": "python",
   "nbconvert_exporter": "python",
   "pygments_lexer": "ipython3",
   "version": "3.8.7"
  }
 },
 "nbformat": 4,
 "nbformat_minor": 4
}
